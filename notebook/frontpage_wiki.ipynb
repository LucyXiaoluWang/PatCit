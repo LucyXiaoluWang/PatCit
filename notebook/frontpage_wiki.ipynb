{
  "nbformat": 4,
  "nbformat_minor": 0,
  "metadata": {
    "colab": {
      "name": "frontpage_wiki.ipynb",
      "provenance": [],
      "include_colab_link": true
    },
    "kernelspec": {
      "name": "python3",
      "display_name": "Python 3"
    }
  },
  "cells": [
    {
      "cell_type": "markdown",
      "metadata": {
        "id": "view-in-github",
        "colab_type": "text"
      },
      "source": [
        "<a href=\"https://colab.research.google.com/github/cverluise/PatCit/blob/nightly/notebook/frontpage_wiki.ipynb\" target=\"_parent\"><img src=\"https://colab.research.google.com/assets/colab-badge.svg\" alt=\"Open In Colab\"/></a>"
      ]
    },
    {
      "cell_type": "code",
      "metadata": {
        "id": "CVnwI8SrNJ5-"
      },
      "source": [
        "from google.colab import files\n",
        "from google.cloud import bigquery\n",
        "from google.oauth2 import service_account"
      ],
      "execution_count": 1,
      "outputs": []
    },
    {
      "cell_type": "markdown",
      "metadata": {
        "id": "a452qJ5CQ-yI"
      },
      "source": [
        "# Set up"
      ]
    },
    {
      "cell_type": "markdown",
      "metadata": {
        "id": "_0Z6CcpLSAgk"
      },
      "source": [
        "> If you don't have the JSON file that contains your key yet, follow the instructions to [create a service account](https://cloud.google.com/docs/authentication/getting-started#creating_a_service_account)"
      ]
    },
    {
      "cell_type": "code",
      "metadata": {
        "id": "qjhb04pcNRng",
        "outputId": "686423f6-61bc-4527-e8e1-d841784f09b4",
        "colab": {
          "resources": {
            "http://localhost:8080/nbextensions/google.colab/files.js": {
              "data": "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",
              "ok": true,
              "headers": [
                [
                  "content-type",
                  "application/javascript"
                ]
              ],
              "status": 200,
              "status_text": ""
            }
          },
          "base_uri": "https://localhost:8080/",
          "height": 72
        }
      },
      "source": [
        "# Upload your credentials\n",
        "uploaded = files.upload() "
      ],
      "execution_count": 2,
      "outputs": [
        {
          "output_type": "display_data",
          "data": {
            "text/html": [
              "\n",
              "     <input type=\"file\" id=\"files-a22a720d-3aa8-4a73-849b-995801632c74\" name=\"files[]\" multiple disabled\n",
              "        style=\"border:none\" />\n",
              "     <output id=\"result-a22a720d-3aa8-4a73-849b-995801632c74\">\n",
              "      Upload widget is only available when the cell has been executed in the\n",
              "      current browser session. Please rerun this cell to enable.\n",
              "      </output>\n",
              "      <script src=\"/nbextensions/google.colab/files.js\"></script> "
            ],
            "text/plain": [
              "<IPython.core.display.HTML object>"
            ]
          },
          "metadata": {
            "tags": []
          }
        },
        {
          "output_type": "stream",
          "text": [
            "Saving npl-parsing-3412b4cafd20.json to npl-parsing-3412b4cafd20.json\n"
          ],
          "name": "stdout"
        }
      ]
    },
    {
      "cell_type": "code",
      "metadata": {
        "id": "KRTOUU1KQhpC"
      },
      "source": [
        "key_path = \"./npl-parsing-3412b4cafd20.json\" # change the name to match your credentials file name"
      ],
      "execution_count": 3,
      "outputs": []
    },
    {
      "cell_type": "code",
      "metadata": {
        "id": "LDRrtylmPv4h"
      },
      "source": [
        "credentials = service_account.Credentials.from_service_account_file(\n",
        "    key_path,\n",
        "    scopes=[\"https://www.googleapis.com/auth/cloud-platform\"],\n",
        ")\n",
        "\n",
        "client = bigquery.Client(\n",
        "    credentials=credentials,\n",
        "    project=credentials.project_id,\n",
        ")"
      ],
      "execution_count": 4,
      "outputs": []
    },
    {
      "cell_type": "code",
      "metadata": {
        "id": "mIs-pmepLLeC"
      },
      "source": [
        "wiki_table = \"patcit-public-data.frontpage.wiki\"\n"
      ],
      "execution_count": null,
      "outputs": []
    },
    {
      "cell_type": "markdown",
      "metadata": {
        "id": "HYySwI1MSvrO"
      },
      "source": [
        "# Graph"
      ]
    },
    {
      "cell_type": "markdown",
      "metadata": {
        "id": "vY1bNjXNfcO5"
      },
      "source": [
        "The graph can be seen as a bipartite graph where the 2 disjoint set of nodes are:\n",
        "\n",
        "1. wiki pages\n",
        "1. patents\n",
        "\n",
        "Graphic representation of a bipartite directed graph [here](https://www.researchgate.net/publication/333505764/figure/fig5/AS:764459744247808@1559272814030/A-complete-directed-bipartite-graph-between-the-sets-of-likes-and-dislikes_W640.jpg).\n",
        "\n",
        "**Warning** This is a simplified representation. IRL, wiki pages can cite patents as well and both patents and wiki pages exhibit (a lot of) \"within\" citations.\n",
        "\n"
      ]
    },
    {
      "cell_type": "markdown",
      "metadata": {
        "id": "3RCUopw8YACj"
      },
      "source": [
        "### Nodes"
      ]
    },
    {
      "cell_type": "code",
      "metadata": {
        "id": "81dSDu4ASyPx"
      },
      "source": [
        "query = f\"\"\"\n",
        "SELECT\n",
        "  COUNT(patcit_id) as nb_wiki_nodes\n",
        "FROM\n",
        "  `{wiki_table}`\n",
        "\"\"\""
      ],
      "execution_count": null,
      "outputs": []
    },
    {
      "cell_type": "code",
      "metadata": {
        "id": "XzTYXRWfUBT3"
      },
      "source": [
        "tmp = client.query(query).to_dataframe()"
      ],
      "execution_count": null,
      "outputs": []
    },
    {
      "cell_type": "code",
      "metadata": {
        "id": "O0n_souqUR2n",
        "outputId": "8b95e11a-b4eb-4a6c-a7a9-1577f0b01349",
        "colab": {
          "base_uri": "https://localhost:8080/",
          "height": 35
        }
      },
      "source": [
        "print(f\"There are {int(tmp['nb_wiki_nodes'].values)} wiki nodes\")"
      ],
      "execution_count": null,
      "outputs": [
        {
          "output_type": "stream",
          "text": [
            "There are 70052 wiki nodes\n"
          ],
          "name": "stdout"
        }
      ]
    },
    {
      "cell_type": "markdown",
      "metadata": {
        "id": "bmvA0NObUx6g"
      },
      "source": [
        "> Note: we know that there are still duplicates"
      ]
    },
    {
      "cell_type": "code",
      "metadata": {
        "id": "xAw_P17YeFOv"
      },
      "source": [
        "query = f\"\"\"SELECT\n",
        "  COUNT(DISTINCT(cited_by.publication_number)) as nb_patent_nodes\n",
        "FROM\n",
        "  `{wiki_table}`,\n",
        "  UNNEST(cited_by) as cited_by\n",
        "\"\"\""
      ],
      "execution_count": null,
      "outputs": []
    },
    {
      "cell_type": "code",
      "metadata": {
        "id": "LINvchIFeMqn"
      },
      "source": [
        "tmp = client.query(query).to_dataframe()"
      ],
      "execution_count": null,
      "outputs": []
    },
    {
      "cell_type": "code",
      "metadata": {
        "id": "OPxFZdvNebxh",
        "outputId": "21e7559f-0864-437c-fae8-464969864983",
        "colab": {
          "base_uri": "https://localhost:8080/",
          "height": 35
        }
      },
      "source": [
        "print(f\"There are {int(tmp['nb_patent_nodes'].values)} patent nodes\")"
      ],
      "execution_count": null,
      "outputs": [
        {
          "output_type": "stream",
          "text": [
            "There are 64224 patent nodes\n"
          ],
          "name": "stdout"
        }
      ]
    },
    {
      "cell_type": "markdown",
      "metadata": {
        "id": "IOXc37MRYDRX"
      },
      "source": [
        "### Edges"
      ]
    },
    {
      "cell_type": "code",
      "metadata": {
        "id": "UqbcY9I3X9Zg"
      },
      "source": [
        "query = f\"\"\"\n",
        "SELECT\n",
        "  SUM(is_cited_by_count) as nb_edges\n",
        "FROM\n",
        "  `{wiki_table}`\n",
        "\"\"\"  "
      ],
      "execution_count": null,
      "outputs": []
    },
    {
      "cell_type": "code",
      "metadata": {
        "id": "9hMwrwYUmz0U"
      },
      "source": [
        "tmp = client.query(query).to_dataframe()"
      ],
      "execution_count": null,
      "outputs": []
    },
    {
      "cell_type": "code",
      "metadata": {
        "id": "zG3BzWj8mz0Y",
        "outputId": "917c2234-4f15-4765-96f4-6c881eef39fd",
        "colab": {
          "base_uri": "https://localhost:8080/",
          "height": 35
        }
      },
      "source": [
        "print(f\"There are {int(tmp['nb_edges'].values)} edges\")"
      ],
      "execution_count": null,
      "outputs": [
        {
          "output_type": "stream",
          "text": [
            "There are 108475 edges\n"
          ],
          "name": "stdout"
        }
      ]
    },
    {
      "cell_type": "markdown",
      "metadata": {
        "id": "8l3u0WD4YIA4"
      },
      "source": [
        "### Degrees"
      ]
    },
    {
      "cell_type": "markdown",
      "metadata": {
        "id": "lm2pGakgoHG5"
      },
      "source": [
        "#### In-degree"
      ]
    },
    {
      "cell_type": "code",
      "metadata": {
        "id": "5wnKCE8TY90W"
      },
      "source": [
        "query = f\"\"\"\n",
        "SELECT\n",
        "  is_cited_by_count,\n",
        "  COUNT(patcit_id) as nb_occ,\n",
        "FROM\n",
        "  `{wiki_table}`\n",
        "GROUP BY\n",
        "  is_cited_by_count\n",
        "\"\"\""
      ],
      "execution_count": null,
      "outputs": []
    },
    {
      "cell_type": "code",
      "metadata": {
        "id": "G7-W4ra1bttN"
      },
      "source": [
        "tmp = client.query(query).to_dataframe()"
      ],
      "execution_count": null,
      "outputs": []
    },
    {
      "cell_type": "code",
      "metadata": {
        "id": "O-XG-T7PcLSo",
        "outputId": "decb674a-95cc-4431-d805-35ea04f3581d",
        "colab": {
          "base_uri": "https://localhost:8080/",
          "height": 299
        }
      },
      "source": [
        "(tmp\n",
        " .set_index(\"is_cited_by_count\")\n",
        " .iloc[:20] # truncated\n",
        " .plot(kind=\"bar\", title=\"Degree distribution (in-degree)\"));"
      ],
      "execution_count": null,
      "outputs": [
        {
          "output_type": "display_data",
          "data": {
            "image/png": "[encoded data removed]",
            "text/plain": [
              "<Figure size 432x288 with 1 Axes>"
            ]
          },
          "metadata": {
            "tags": [],
            "needs_background": "light"
          }
        }
      ]
    },
    {
      "cell_type": "markdown",
      "metadata": {
        "id": "yzlvoWb8QADP"
      },
      "source": [
        "There is a fat tail"
      ]
    },
    {
      "cell_type": "markdown",
      "metadata": {
        "id": "6AfrdpHvoPgL"
      },
      "source": [
        "#### Out degree"
      ]
    },
    {
      "cell_type": "code",
      "metadata": {
        "id": "Ko8xxiVGn7nH"
      },
      "source": [
        "query = f\"\"\"WITH\n",
        "  tmp AS (\n",
        "  SELECT\n",
        "    COUNT(cited_by.publication_number) AS nb_cit_wiki,\n",
        "    cited_by.publication_number\n",
        "  FROM\n",
        "    `{wiki_table}`,\n",
        "    UNNEST(cited_by) AS cited_by\n",
        "  GROUP BY\n",
        "    cited_by.publication_number )\n",
        "SELECT\n",
        "  nb_cit_wiki,\n",
        "  COUNT(nb_cit_wiki) as nb_occ\n",
        "FROM\n",
        "  tmp\n",
        "GROUP BY\n",
        "  nb_cit_wiki\"\"\""
      ],
      "execution_count": null,
      "outputs": []
    },
    {
      "cell_type": "code",
      "metadata": {
        "id": "wZGyL3zxoOlL"
      },
      "source": [
        "tmp = client.query(query).to_dataframe()"
      ],
      "execution_count": null,
      "outputs": []
    },
    {
      "cell_type": "code",
      "metadata": {
        "id": "E6RMlDp1oOlO",
        "outputId": "a3ffa950-a970-49f6-fc1e-5fa08c04732a",
        "colab": {
          "base_uri": "https://localhost:8080/",
          "height": 299
        }
      },
      "source": [
        "(tmp\n",
        " .set_index(\"nb_cit_wiki\")\n",
        " .iloc[:20] # truncated\n",
        " .plot(kind=\"bar\", title=\"Degree distribution (out-degree)\"));"
      ],
      "execution_count": null,
      "outputs": [
        {
          "output_type": "display_data",
          "data": {
            "image/png": "[encoded data removed]",
            "text/plain": [
              "<Figure size 432x288 with 1 Axes>"
            ]
          },
          "metadata": {
            "tags": [],
            "needs_background": "light"
          }
        }
      ]
    },
    {
      "cell_type": "markdown",
      "metadata": {
        "id": "wVBThkoYY-kH"
      },
      "source": [
        "### Centrality"
      ]
    },
    {
      "cell_type": "code",
      "metadata": {
        "id": "NtL9CGBNaVth"
      },
      "source": [
        "query = f\"\"\"SELECT\n",
        "  item,\n",
        "  SUM(is_cited_by_count) AS nb_cit\n",
        "FROM\n",
        "  {wiki_table},\n",
        "  UNNEST(item) AS item\n",
        "GROUP BY\n",
        "  item\"\"\""
      ],
      "execution_count": null,
      "outputs": []
    },
    {
      "cell_type": "code",
      "metadata": {
        "id": "1noeATk4aaxH"
      },
      "source": [
        "tmp = client.query(query).to_dataframe()"
      ],
      "execution_count": null,
      "outputs": []
    },
    {
      "cell_type": "code",
      "metadata": {
        "id": "ArhP4rT7awhz",
        "outputId": "28782b88-4201-4208-890e-0823f2dfd485",
        "colab": {
          "base_uri": "https://localhost:8080/",
          "height": 348
        }
      },
      "source": [
        "# Top n most cited items (rough measure of centrality)\n",
        "(tmp\n",
        " .sort_values(\"nb_cit\", ascending=False)\n",
        " .head(10))"
      ],
      "execution_count": null,
      "outputs": [
        {
          "output_type": "execute_result",
          "data": {
            "text/html": [
              "<div>\n",
              "<style scoped>\n",
              "    .dataframe tbody tr th:only-of-type {\n",
              "        vertical-align: middle;\n",
              "    }\n",
              "\n",
              "    .dataframe tbody tr th {\n",
              "        vertical-align: top;\n",
              "    }\n",
              "\n",
              "    .dataframe thead th {\n",
              "        text-align: right;\n",
              "    }\n",
              "</style>\n",
              "<table border=\"1\" class=\"dataframe\">\n",
              "  <thead>\n",
              "    <tr style=\"text-align: right;\">\n",
              "      <th></th>\n",
              "      <th>item</th>\n",
              "      <th>nb_cit</th>\n",
              "    </tr>\n",
              "  </thead>\n",
              "  <tbody>\n",
              "    <tr>\n",
              "      <th>124</th>\n",
              "      <td>Cancer</td>\n",
              "      <td>304</td>\n",
              "    </tr>\n",
              "    <tr>\n",
              "      <th>1086</th>\n",
              "      <td>Mammal</td>\n",
              "      <td>235</td>\n",
              "    </tr>\n",
              "    <tr>\n",
              "      <th>924</th>\n",
              "      <td>Viruses</td>\n",
              "      <td>213</td>\n",
              "    </tr>\n",
              "    <tr>\n",
              "      <th>1039</th>\n",
              "      <td>Murinae</td>\n",
              "      <td>204</td>\n",
              "    </tr>\n",
              "    <tr>\n",
              "      <th>1171</th>\n",
              "      <td>Plant</td>\n",
              "      <td>194</td>\n",
              "    </tr>\n",
              "    <tr>\n",
              "      <th>1214</th>\n",
              "      <td>Fungi</td>\n",
              "      <td>165</td>\n",
              "    </tr>\n",
              "    <tr>\n",
              "      <th>1217</th>\n",
              "      <td>List of sequenced bacterial genomes</td>\n",
              "      <td>164</td>\n",
              "    </tr>\n",
              "    <tr>\n",
              "      <th>6</th>\n",
              "      <td>Bluetooth</td>\n",
              "      <td>156</td>\n",
              "    </tr>\n",
              "    <tr>\n",
              "      <th>492</th>\n",
              "      <td>Grid Offerings</td>\n",
              "      <td>144</td>\n",
              "    </tr>\n",
              "    <tr>\n",
              "      <th>1339</th>\n",
              "      <td>Elliptical Polarization</td>\n",
              "      <td>125</td>\n",
              "    </tr>\n",
              "  </tbody>\n",
              "</table>\n",
              "</div>"
            ],
            "text/plain": [
              "                                     item  nb_cit\n",
              "124                                Cancer     304\n",
              "1086                               Mammal     235\n",
              "924                               Viruses     213\n",
              "1039                              Murinae     204\n",
              "1171                                Plant     194\n",
              "1214                                Fungi     165\n",
              "1217  List of sequenced bacterial genomes     164\n",
              "6                               Bluetooth     156\n",
              "492                        Grid Offerings     144\n",
              "1339              Elliptical Polarization     125"
            ]
          },
          "metadata": {
            "tags": []
          },
          "execution_count": 42
        }
      ]
    },
    {
      "cell_type": "markdown",
      "metadata": {
        "id": "947rIHfoRFli"
      },
      "source": [
        "# Characteristics of wiki citations"
      ]
    },
    {
      "cell_type": "markdown",
      "metadata": {
        "id": "GWw56YIQOsEj"
      },
      "source": [
        "In short, the \"average\" wiki citation is coming from:\n",
        "\n",
        "- the applicants \n",
        "- of a patent published at the USPTO \n",
        "- in the 2010s\n",
        "\n",
        "> The technological class of the citing patents is biased towards cpc codes which don't appear anymore in the cpc scheme (see https://www.cooperativepatentclassification.org/cpcSchemeAndDefinitions/table)"
      ]
    },
    {
      "cell_type": "markdown",
      "metadata": {
        "id": "aB_Knx4h0Uw8"
      },
      "source": [
        "### By year"
      ]
    },
    {
      "cell_type": "code",
      "metadata": {
        "id": "6FUriUOyVNet"
      },
      "source": [
        "query = \"\"\"\n",
        "SELECT\n",
        "  CAST(cited_by.publication_date/10000 AS INT64) as publication_year,\n",
        "  COUNT(cited_by.publication_number) as nb_citations\n",
        "FROM\n",
        "  `patcit-public-data.frontpage.wiki`,\n",
        "  UNNEST(cited_by) as cited_by\n",
        "GROUP BY\n",
        "  publication_year\n",
        "\"\"\""
      ],
      "execution_count": null,
      "outputs": []
    },
    {
      "cell_type": "code",
      "metadata": {
        "id": "lRI16o3G37tE"
      },
      "source": [
        "tmp = client.query(query).to_dataframe()"
      ],
      "execution_count": null,
      "outputs": []
    },
    {
      "cell_type": "code",
      "metadata": {
        "id": "LgvJAYuWNk2P",
        "outputId": "00631387-9775-41bb-d2d1-0ca8ba45fcbf",
        "colab": {
          "base_uri": "https://localhost:8080/",
          "height": 296
        }
      },
      "source": [
        "(tmp\n",
        " .sort_values(\"publication_year\")\n",
        " .set_index(\"publication_year\")\n",
        " .plot(title=\"Nb wiki citations by publication_year\", xlim=(2000, 2020)));"
      ],
      "execution_count": null,
      "outputs": [
        {
          "output_type": "display_data",
          "data": {
            "image/png": "[encoded data removed]",
            "text/plain": [
              "<Figure size 432x288 with 1 Axes>"
            ]
          },
          "metadata": {
            "tags": [],
            "needs_background": "light"
          }
        }
      ]
    },
    {
      "cell_type": "markdown",
      "metadata": {
        "id": "xH_Y9-CC0kvW"
      },
      "source": [
        "### By country"
      ]
    },
    {
      "cell_type": "code",
      "metadata": {
        "id": "6rFnYQQCWmn1"
      },
      "source": [
        "query = f\"\"\"\n",
        "SELECT\n",
        "  SPLIT(cited_by.publication_number, \"-\")[\n",
        "OFFSET\n",
        "  (0)] AS country_code,\n",
        "  COUNT(cited_by.publication_number) AS nb_cit\n",
        "FROM\n",
        "  {wiki_table},\n",
        "  UNNEST(cited_by) AS cited_by\n",
        "GROUP BY\n",
        "  country_code\n",
        "  \"\"\""
      ],
      "execution_count": null,
      "outputs": []
    },
    {
      "cell_type": "code",
      "metadata": {
        "id": "GrdH9JEf4dEB",
        "outputId": "42c1e8a8-d901-43de-a50e-aa4698b5bf0f",
        "colab": {
          "base_uri": "https://localhost:8080/",
          "height": 304
        }
      },
      "source": [
        "(tmp\n",
        " .sort_values(\"nb_cit\", ascending=False)\n",
        " .set_index(\"country_code\")\n",
        " .plot(kind=\"bar\", title=\"Nb wiki citations by patent office\"));"
      ],
      "execution_count": null,
      "outputs": [
        {
          "output_type": "display_data",
          "data": {
            "image/png": "[encoded data removed]",
            "text/plain": [
              "<Figure size 432x288 with 1 Axes>"
            ]
          },
          "metadata": {
            "tags": [],
            "needs_background": "light"
          }
        }
      ]
    },
    {
      "cell_type": "markdown",
      "metadata": {
        "id": "XVVU6VFE0r0I"
      },
      "source": [
        "### By origin (App, ISR, etc)"
      ]
    },
    {
      "cell_type": "code",
      "metadata": {
        "id": "6jHtoSAKUQ4g"
      },
      "source": [
        "query = f\"\"\"SELECT\n",
        "  cited_by.origin AS origin,\n",
        "  COUNT(cited_by.publication_number) AS nb_cit\n",
        "FROM\n",
        "  {wiki_table},\n",
        "  UNNEST(cited_by) AS cited_by\n",
        "GROUP BY\n",
        "  origin\"\"\""
      ],
      "execution_count": null,
      "outputs": []
    },
    {
      "cell_type": "code",
      "metadata": {
        "id": "x7ch8GrB6R7R"
      },
      "source": [
        "tmp = client.query(query).to_dataframe()"
      ],
      "execution_count": null,
      "outputs": []
    },
    {
      "cell_type": "code",
      "metadata": {
        "id": "pexUtXC06WqJ",
        "outputId": "6a09f8d6-8a09-49f7-e174-205aa2753e59",
        "colab": {
          "base_uri": "https://localhost:8080/",
          "height": 305
        }
      },
      "source": [
        "(tmp.sort_values(\"nb_cit\", ascending=False)\n",
        " .set_index(\"origin\")\n",
        " .plot(kind=\"bar\", title=\"Nb wiki citations by origin\"));"
      ],
      "execution_count": null,
      "outputs": [
        {
          "output_type": "display_data",
          "data": {
            "image/png": "[encoded data removed]",
            "text/plain": [
              "<Figure size 432x288 with 1 Axes>"
            ]
          },
          "metadata": {
            "tags": [],
            "needs_background": "light"
          }
        }
      ]
    },
    {
      "cell_type": "markdown",
      "metadata": {
        "id": "zZ8cGiMj0Hc-"
      },
      "source": [
        "### By technological class"
      ]
    },
    {
      "cell_type": "code",
      "metadata": {
        "id": "M5sovbmwVflH"
      },
      "source": [
        "query_all = \"\"\"SELECT\n",
        "  cpc.code AS cpc_code,\n",
        "  COUNT(publication_number) AS nb # not distinct, just the nb of lines\n",
        "FROM\n",
        "  `patents-public-data.patents.publications`,\n",
        "  UNNEST(cpc) AS cpc\n",
        "WHERE\n",
        "  country_code=\"US\"\n",
        "  AND publication_date>=20100000\n",
        "GROUP BY\n",
        "  cpc_code\n",
        "ORDER BY\n",
        "  nb DESC  \"\"\"\n",
        "\n",
        "query = \"\"\"WITH\n",
        "  cpcs AS (\n",
        "  WITH\n",
        "    pubnums AS (\n",
        "    WITH\n",
        "      tmp AS (\n",
        "      SELECT\n",
        "        cited_by.publication_number AS cited_by_pubnum_\n",
        "      FROM\n",
        "        `npl-parsing.patcit.fp_wiki_dev_beta`,\n",
        "        UNNEST(cited_by) AS cited_by)\n",
        "    SELECT\n",
        "      cited_by_pubnum\n",
        "    FROM\n",
        "      tmp,\n",
        "      UNNEST(cited_by_pubnum_) AS cited_by_pubnum )\n",
        "  SELECT\n",
        "    pubnums.cited_by_pubnum,\n",
        "    p.cpc\n",
        "  FROM\n",
        "    pubnums\n",
        "  LEFT JOIN\n",
        "    `patents-public-data.patents.publications` p\n",
        "  ON\n",
        "    pubnums.cited_by_pubnum=p.publication_number)\n",
        "SELECT\n",
        "  cpc.code AS cpc_code,\n",
        "  COUNT(cited_by_pubnum) AS nb # not distinct, just the nb of lines\n",
        "FROM\n",
        "  cpcs,\n",
        "  UNNEST(cpc) AS cpc\n",
        "GROUP BY\n",
        "  cpc_code\n",
        "ORDER BY\n",
        "  nb DESC\"\"\""
      ],
      "execution_count": null,
      "outputs": []
    },
    {
      "cell_type": "code",
      "metadata": {
        "id": "QOjXZOZt5Z6z"
      },
      "source": [
        "cpc_df = client.query(query_all).to_dataframe()\n",
        "cpc_tmp = client.query(query).to_dataframe()"
      ],
      "execution_count": null,
      "outputs": []
    },
    {
      "cell_type": "code",
      "metadata": {
        "id": "JcTPYxX65ydz"
      },
      "source": [
        "def get_odds(lvl:str):\n",
        "  \"\"\"Compute the odds ratio by cpc code at level <lvl>\"\"\"\n",
        "  cpc_level = {\"section\":1, \"class\":3, \"subclass\":4}\n",
        "  assert lvl in list(cpc_level.keys())\n",
        "  \n",
        "  cpc_df[f\"cpc_{lvl}\"] = (cpc_df[\"cpc_code\"]\n",
        "                            .apply(lambda x: x[:cpc_level[lvl]]))\n",
        "  cpc_tmp[f\"cpc_{lvl}\"] = (cpc_tmp[\"cpc_code\"]\n",
        "                           .apply(lambda x: x[:cpc_level[lvl]]))\n",
        "  cpc_df_sub = (cpc_df.groupby(f\"cpc_{lvl}\").sum()/cpc_df[\"nb\"].sum()).rename(columns={\"nb\":\"share\"})\n",
        "  cpc_tmp_sub = (cpc_tmp.groupby(f\"cpc_{lvl}\").sum()/cpc_tmp[\"nb\"].sum()).rename(columns={\"nb\":\"share\"})\n",
        "  out = cpc_df_sub.merge(cpc_tmp_sub, how=\"left\", \n",
        "                   right_index=True, left_index=True, \n",
        "                   suffixes=(\"\", \"_wiki\"))\n",
        "  out[\"odds\"] = out[\"share_wiki\"]/out[\"share\"]\n",
        "  out = out.sort_values(by=\"odds\", ascending=False)\n",
        "  return out"
      ],
      "execution_count": null,
      "outputs": []
    },
    {
      "cell_type": "markdown",
      "metadata": {
        "id": "ZedW8yiLOO0l"
      },
      "source": [
        "#### Class"
      ]
    },
    {
      "cell_type": "code",
      "metadata": {
        "id": "L9ueeNMS8lVJ",
        "outputId": "94ab15e3-fa4e-453c-8d87-83d991b57a92",
        "colab": {
          "base_uri": "https://localhost:8080/",
          "height": 378
        }
      },
      "source": [
        "get_odds(\"class\").head(10)"
      ],
      "execution_count": null,
      "outputs": [
        {
          "output_type": "execute_result",
          "data": {
            "text/html": [
              "<div>\n",
              "<style scoped>\n",
              "    .dataframe tbody tr th:only-of-type {\n",
              "        vertical-align: middle;\n",
              "    }\n",
              "\n",
              "    .dataframe tbody tr th {\n",
              "        vertical-align: top;\n",
              "    }\n",
              "\n",
              "    .dataframe thead th {\n",
              "        text-align: right;\n",
              "    }\n",
              "</style>\n",
              "<table border=\"1\" class=\"dataframe\">\n",
              "  <thead>\n",
              "    <tr style=\"text-align: right;\">\n",
              "      <th></th>\n",
              "      <th>share</th>\n",
              "      <th>share_wiki</th>\n",
              "      <th>odds</th>\n",
              "    </tr>\n",
              "    <tr>\n",
              "      <th>cpc_class</th>\n",
              "      <th></th>\n",
              "      <th></th>\n",
              "      <th></th>\n",
              "    </tr>\n",
              "  </thead>\n",
              "  <tbody>\n",
              "    <tr>\n",
              "      <th>Y01</th>\n",
              "      <td>1.742023e-07</td>\n",
              "      <td>8.637923e-06</td>\n",
              "      <td>49.585581</td>\n",
              "    </tr>\n",
              "    <tr>\n",
              "      <th>H40</th>\n",
              "      <td>5.123597e-08</td>\n",
              "      <td>1.233989e-06</td>\n",
              "      <td>24.084425</td>\n",
              "    </tr>\n",
              "    <tr>\n",
              "      <th>A64</th>\n",
              "      <td>4.098878e-08</td>\n",
              "      <td>6.169945e-07</td>\n",
              "      <td>15.052766</td>\n",
              "    </tr>\n",
              "    <tr>\n",
              "      <th>C70</th>\n",
              "      <td>6.148317e-08</td>\n",
              "      <td>6.169945e-07</td>\n",
              "      <td>10.035177</td>\n",
              "    </tr>\n",
              "    <tr>\n",
              "      <th>G60</th>\n",
              "      <td>3.996406e-07</td>\n",
              "      <td>2.467978e-06</td>\n",
              "      <td>6.175494</td>\n",
              "    </tr>\n",
              "    <tr>\n",
              "      <th>A63</th>\n",
              "      <td>1.112876e-02</td>\n",
              "      <td>3.888423e-02</td>\n",
              "      <td>3.494030</td>\n",
              "    </tr>\n",
              "    <tr>\n",
              "      <th>A16</th>\n",
              "      <td>1.946967e-07</td>\n",
              "      <td>6.169945e-07</td>\n",
              "      <td>3.169003</td>\n",
              "    </tr>\n",
              "    <tr>\n",
              "      <th>G06</th>\n",
              "      <td>9.820183e-02</td>\n",
              "      <td>2.325242e-01</td>\n",
              "      <td>2.367820</td>\n",
              "    </tr>\n",
              "    <tr>\n",
              "      <th>Y04</th>\n",
              "      <td>6.238082e-04</td>\n",
              "      <td>1.217947e-03</td>\n",
              "      <td>1.952438</td>\n",
              "    </tr>\n",
              "    <tr>\n",
              "      <th>G07</th>\n",
              "      <td>4.254492e-03</td>\n",
              "      <td>7.798193e-03</td>\n",
              "      <td>1.832932</td>\n",
              "    </tr>\n",
              "  </tbody>\n",
              "</table>\n",
              "</div>"
            ],
            "text/plain": [
              "                  share    share_wiki       odds\n",
              "cpc_class                                       \n",
              "Y01        1.742023e-07  8.637923e-06  49.585581\n",
              "H40        5.123597e-08  1.233989e-06  24.084425\n",
              "A64        4.098878e-08  6.169945e-07  15.052766\n",
              "C70        6.148317e-08  6.169945e-07  10.035177\n",
              "G60        3.996406e-07  2.467978e-06   6.175494\n",
              "A63        1.112876e-02  3.888423e-02   3.494030\n",
              "A16        1.946967e-07  6.169945e-07   3.169003\n",
              "G06        9.820183e-02  2.325242e-01   2.367820\n",
              "Y04        6.238082e-04  1.217947e-03   1.952438\n",
              "G07        4.254492e-03  7.798193e-03   1.832932"
            ]
          },
          "metadata": {
            "tags": []
          },
          "execution_count": 86
        }
      ]
    },
    {
      "cell_type": "markdown",
      "metadata": {
        "id": "71i7J7KOD8Ew"
      },
      "source": [
        "> There seems to be something weird happening there. The cpc classes with the highest odds ratios do not exist (anymore) in official tables (e.g. https://www.cooperativepatentclassification.org/cpcSchemeAndDefinitions/table)"
      ]
    },
    {
      "cell_type": "markdown",
      "metadata": {
        "id": "pi384uuxQD2K"
      },
      "source": [
        "TODO: \n",
        "\n",
        "- Unravel the cpc code mystery\n",
        "- Look at how wikipedia categories and cpc codes relate together\n",
        "- Look for characteristics of cited wiki pages (ent, concept, etc) that could help us better understand the citation intent\n",
        "\n",
        "Current guess is that applicants use wiki definitions to standardize emerging concepts which are still not clearly defined by official organizations/ the scientific world."
      ]
    }
  ]
}